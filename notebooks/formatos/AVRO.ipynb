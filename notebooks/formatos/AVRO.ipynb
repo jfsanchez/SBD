{
 "cells": [
  {
   "cell_type": "markdown",
   "metadata": {},
   "source": [
    "# AVRO"
   ]
  },
  {
   "attachments": {},
   "cell_type": "markdown",
   "metadata": {},
   "source": [
    "AVRO é un **formato** de datos **binario** empregado normalmente para **streaming** de datos.\n",
    "\n",
    "Traballando con arquivos AVRO:\n",
    "\n",
    "- Crear un schema\n",
    "- Crear un arquivo AVRO baseado no esquema"
   ]
  },
  {
   "cell_type": "markdown",
   "metadata": {},
   "source": [
    "## Instalación de dependencias"
   ]
  },
  {
   "cell_type": "code",
   "execution_count": null,
   "metadata": {},
   "outputs": [],
   "source": [
    "%conda install -c conda-forge avro"
   ]
  },
  {
   "cell_type": "markdown",
   "metadata": {},
   "source": [
    "## Creación e escritura dun arquivo en formato AVRO"
   ]
  },
  {
   "cell_type": "code",
   "execution_count": null,
   "metadata": {},
   "outputs": [],
   "source": [
    "import os\n",
    "import tempfile\n",
    "import avro.schema\n",
    "from avro.datafile import DataFileReader, DataFileWriter\n",
    "from avro.io import DatumReader, DatumWriter\n",
    "\n",
    "directorioTemporal=tempfile.mkdtemp()\n",
    "arquivoSchema = os.path.join(directorioTemporal, \"user.avsc\")\n",
    "writer = open(arquivoSchema, \"w\", encoding=\"UTF-8\")\n",
    "\n",
    "writer.write('{\"namespace\": \"example.avro\",')\n",
    "writer.write('\"type\": \"record\",')\n",
    "writer.write('\"name\": \"User\",')\n",
    "writer.write('\"fields\": [')\n",
    "writer.write('     {\"name\": \"name\", \"type\": \"string\"},')\n",
    "writer.write('     {\"name\": \"favorite_number\",  \"type\": [\"int\", \"null\"]},')\n",
    "writer.write('     {\"name\": \"favorite_color\", \"type\": [\"string\", \"null\"]}')\n",
    "writer.write(']')\n",
    "writer.write('}')\n",
    "\n",
    "writer.close()"
   ]
  },
  {
   "cell_type": "markdown",
   "metadata": {},
   "source": [
    "## Engadir datos (append) e lectura"
   ]
  },
  {
   "cell_type": "code",
   "execution_count": null,
   "metadata": {},
   "outputs": [],
   "source": [
    "arquivoAVRO = os.path.join(directorioTemporal, \"users.avro\")\n",
    "\n",
    "schema = avro.schema.parse(open(arquivoSchema, \"rb\").read())\n",
    "\n",
    "writer = DataFileWriter(open(arquivoAVRO, \"wb\"), DatumWriter(), schema)\n",
    "writer.append({\"name\": \"Alyssa\", \"favorite_number\": 256})\n",
    "writer.append({\"name\": \"Ben\", \"favorite_number\": 7, \"favorite_color\": \"red\"})\n",
    "writer.close()\n",
    "\n",
    "reader = DataFileReader(open(arquivoAVRO, \"rb\"), DatumReader())\n",
    "for user in reader:\n",
    "    print(user)\n",
    "reader.close()"
   ]
  },
  {
   "attachments": {},
   "cell_type": "markdown",
   "metadata": {},
   "source": [
    "**Baseado en**: <https://avro.apache.org/docs/1.11.1/getting-started-python/>"
   ]
  }
 ],
 "metadata": {
  "kernelspec": {
   "display_name": "base",
   "language": "python",
   "name": "python3"
  },
  "language_info": {
   "codemirror_mode": {
    "name": "ipython",
    "version": 3
   },
   "file_extension": ".py",
   "mimetype": "text/x-python",
   "name": "python",
   "nbconvert_exporter": "python",
   "pygments_lexer": "ipython3",
   "version": "3.12.2"
  },
  "orig_nbformat": 4
 },
 "nbformat": 4,
 "nbformat_minor": 2
}
