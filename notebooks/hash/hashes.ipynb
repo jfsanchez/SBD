{
 "cells": [
  {
   "attachments": {},
   "cell_type": "markdown",
   "metadata": {},
   "source": [
    "# Calculando hashes"
   ]
  },
  {
   "cell_type": "code",
   "execution_count": 1,
   "metadata": {},
   "outputs": [],
   "source": [
    "import hashlib"
   ]
  },
  {
   "attachments": {},
   "cell_type": "markdown",
   "metadata": {},
   "source": [
    "## Hasheando texto"
   ]
  },
  {
   "cell_type": "code",
   "execution_count": 2,
   "metadata": {},
   "outputs": [
    {
     "data": {
      "text/plain": [
       "'4e73012cfaac23a166bc7bc50392d482'"
      ]
     },
     "execution_count": 2,
     "metadata": {},
     "output_type": "execute_result"
    }
   ],
   "source": [
    "textoHasheado = hashlib.md5('Ola! Que tal estás?'.encode('utf-8'))\n",
    "#Opción 2: \n",
    "# textoHasheado = hashlib.md5(b'Texto ASCII puro')\n",
    "textoHasheado.hexdigest()"
   ]
  },
  {
   "attachments": {},
   "cell_type": "markdown",
   "metadata": {},
   "source": [
    "**Pregunta:** O digest ou o resultado da función hash, en qué base está expresado: 16 ou 64?\n",
    "\n",
    "**Pista** de tamaños do que ocupa cada digest:\n",
    "\n",
    "| HASH    | Bits   | Bytes   | Caracteres digest   |\n",
    "| ------- | :----: | :-----: | :-----------------: |\n",
    "| MD4/MD5 |  128   | 16      | 32                  |\n",
    "| SHA1    |  160   | 20      | 40                  |\n",
    "| SHA256  |  256   | 64      | 64                  |\n",
    "| SHA512  |  512   | 128     | 128                 |\n"
   ]
  },
  {
   "attachments": {},
   "cell_type": "markdown",
   "metadata": {},
   "source": [
    "## Hasheando arquivo"
   ]
  },
  {
   "attachments": {},
   "cell_type": "markdown",
   "metadata": {},
   "source": [
    "Comparar co hasheo da ferramenta 7ZIP.\n",
    "\n",
    "En ***Microsoft Windows*** -> Click dereito no arquivo (-> 7-Zip) -> **CRC SHA -> SHA-1**\n",
    "\n",
    "En ***GNU/Linux*** emprega o comando: **sha1sum** /tmp/imaxe.png"
   ]
  },
  {
   "cell_type": "code",
   "execution_count": 3,
   "metadata": {},
   "outputs": [
    {
     "data": {
      "text/plain": [
       "'7ee6bef693dcbaf7bea4033b388d94f76f608c2f'"
      ]
     },
     "execution_count": 3,
     "metadata": {},
     "output_type": "execute_result"
    }
   ],
   "source": [
    "archivo = open('X:/jfsanchez/datasets/nomenclator.csv', 'rb')\n",
    "contido = archivo.read()\n",
    "archivo.close\n",
    "hasheado = hashlib.sha1(contido)\n",
    "hasheado.hexdigest()"
   ]
  },
  {
   "cell_type": "markdown",
   "metadata": {},
   "source": [
    "### Comando en GNU/Linux"
   ]
  },
  {
   "cell_type": "code",
   "execution_count": null,
   "metadata": {},
   "outputs": [],
   "source": [
    "! md4sum /tmp/imaxe.png\n",
    "! md5sum /tmp/imaxe.png\n",
    "! sha1sum /tmp/imaxe.png\n",
    "! sha256sum /tmp/imaxe.png\n",
    "! sha512sum /tmp/imaxe.png"
   ]
  },
  {
   "cell_type": "markdown",
   "metadata": {},
   "source": [
    "### Comando en Microsoft Windows"
   ]
  },
  {
   "cell_type": "code",
   "execution_count": 5,
   "metadata": {},
   "outputs": [
    {
     "name": "stdout",
     "output_type": "stream",
     "text": [
      "\n",
      "Algorithm       Hash                                                                   Path                            \n",
      "---------       ----                                                                   ----                            \n",
      "SHA1            7EE6BEF693DCBAF7BEA4033B388D94F76F608C2F                               X:\\jfsanchez\\datasets\\nomencl...\n",
      "\n",
      "\n"
     ]
    }
   ],
   "source": [
    "! Powershell Get-FileHash -Algorithm SHA1 X:\\jfsanchez\\datasets\\nomenclator.csv"
   ]
  }
 ],
 "metadata": {
  "kernelspec": {
   "display_name": "bigdata",
   "language": "python",
   "name": "python3"
  },
  "language_info": {
   "codemirror_mode": {
    "name": "ipython",
    "version": 3
   },
   "file_extension": ".py",
   "mimetype": "text/x-python",
   "name": "python",
   "nbconvert_exporter": "python",
   "pygments_lexer": "ipython3",
   "version": "3.8.15"
  },
  "orig_nbformat": 4,
  "vscode": {
   "interpreter": {
    "hash": "6f2c8ca1a79d6d82f32e116612cbd8f0319de1d4a0a5509748c0bfa14525846a"
   }
  }
 },
 "nbformat": 4,
 "nbformat_minor": 2
}
