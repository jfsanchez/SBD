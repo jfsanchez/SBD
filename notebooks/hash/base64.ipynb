{
 "cells": [
  {
   "attachments": {},
   "cell_type": "markdown",
   "metadata": {},
   "source": [
    "# Pasar a base64 con Python\n",
    "\n",
    "## Importar a libraría"
   ]
  },
  {
   "cell_type": "code",
   "execution_count": null,
   "metadata": {},
   "outputs": [],
   "source": [
    "import base64"
   ]
  },
  {
   "attachments": {},
   "cell_type": "markdown",
   "metadata": {},
   "source": [
    "## Codificar a base64 un texto"
   ]
  },
  {
   "attachments": {},
   "cell_type": "markdown",
   "metadata": {},
   "source": [
    "Antes de executar, pensa que ocupará máis: A codificación do texto en base64 ou en base16?"
   ]
  },
  {
   "cell_type": "code",
   "execution_count": null,
   "metadata": {},
   "outputs": [],
   "source": [
    "texto = \"Esta proba pasarase a BASE64 áéíóú\"\n",
    "textob64 = base64.b64encode(bytes(texto, \"utf-8\"))\n",
    "print (\"Texto en BASE64: \", textob64.decode(\"utf-8\"))\n",
    "print (\"Texto en BASE16: \", textob64.hex())"
   ]
  },
  {
   "attachments": {},
   "cell_type": "markdown",
   "metadata": {},
   "source": [
    "## Descodificar texto en base64"
   ]
  },
  {
   "cell_type": "code",
   "execution_count": null,
   "metadata": {},
   "outputs": [],
   "source": [
    "textoDecod = base64.b64decode(textob64).decode('utf-8')\n",
    "print (textoDecod)"
   ]
  },
  {
   "attachments": {},
   "cell_type": "markdown",
   "metadata": {},
   "source": [
    "## Codificar un arquivo en base64"
   ]
  },
  {
   "attachments": {},
   "cell_type": "markdown",
   "metadata": {},
   "source": [
    "Proba a pegar o contido nun arquivo HTML (pasa a base64 unha imaxe que exista)"
   ]
  },
  {
   "cell_type": "code",
   "execution_count": null,
   "metadata": {},
   "outputs": [],
   "source": [
    "arquivo = open('/tmp/imaxe.png', 'rb')\n",
    "contido = arquivo.read()\n",
    "arquivo.close\n",
    "contidob64=base64.b64encode(contido)\n",
    "\n",
    "print (\"<img src='data:image/png;base64,%s' />\" % (contidob64.decode(\"utf-8\")))\n"
   ]
  }
 ],
 "metadata": {
  "kernelspec": {
   "display_name": "bigdata",
   "language": "python",
   "name": "python3"
  },
  "language_info": {
   "name": "python",
   "version": "3.10.6 (main, Oct 24 2022, 16:07:47) [GCC 11.2.0]"
  },
  "orig_nbformat": 4,
  "vscode": {
   "interpreter": {
    "hash": "f2e17e727900deea8149d85ea5763e45bb65d05a266afb94eb5b64104a5c59e4"
   }
  }
 },
 "nbformat": 4,
 "nbformat_minor": 2
}
