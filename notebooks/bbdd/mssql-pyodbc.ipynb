{
 "cells": [
  {
   "cell_type": "markdown",
   "metadata": {},
   "source": [
    "**AVISO**: Notebook en elaboración e revisión. Poden conter fallos.\n",
    "\n",
    "# Conexión a MS-SQL\n",
    "## Empregando pyodbc\n",
    "\n",
    "### Que é ODBC\n",
    "As siglas significan Open Database Connectivity. É un estándar para acceder ás bases de datos.\n",
    "\n",
    "Seguramente coñezas tamén: JDBC (Java Database Connectivity) que está baseado na mesma idea do estándar anterior.\n",
    "\n",
    "Máis información: <https://es.wikipedia.org/wiki/Open_Database_Connectivity>\n",
    "\n",
    "### Instalando MS-SQL\n",
    "Para instalar Microsoft SQL Server, empregaremos o docker dos apuntes\n",
    "\n",
    "### Instalación da libraría pyodbc\n",
    "\n",
    "Dende o contorno bigdata de conda, instalamos pyodbc de conda-forge:\n"
   ]
  },
  {
   "cell_type": "markdown",
   "metadata": {},
   "source": [
    "## Instalación Driver\n",
    "\n",
    "### **Microsoft Windows**\n",
    "\n",
    "Instalar el Driver desde la página del enlace con la versión **18**\n",
    "\n",
    "<a href=\"https://learn.microsoft.com/en-us/sql/connect/odbc/download-odbc-driver-for-sql-server?view=sql-server-ver16#download-for-windows\">ODBC Driver .msi para Windows</a>\n",
    "\n",
    "### **GNU/Linux Debian**\n",
    "\n",
    "#### 1. Instalar clave pública y confiar en ella:\n",
    "\n",
    "  ~~~\n",
    "  curl https://packages.microsoft.com/keys/microsoft.asc | sudo tee /etc/apt/trusted.gpg.d/microsoft.asc\n",
    "  ~~~\n",
    "\n",
    "#### 2. Elegir versión:\n",
    "\n",
    "  - Debian 9:\n",
    "  ~~~~\n",
    "  curl https://packages.microsoft.com/config/debian/9/prod.list | sudo tee /etc/apt/sources.list.d/mssql-release.list\n",
    "  ~~~~\n",
    "\n",
    "  - Debian 10:\n",
    "\n",
    "  ~~~~\n",
    "  curl https://packages.microsoft.com/config/debian/10/prod.list | sudo tee /etc/apt/sources.list.d/mssql-release.list\n",
    "  ~~~~\n",
    "\n",
    "  - Debian 11:\n",
    "\n",
    "  ~~~~\n",
    "  curl https://packages.microsoft.com/config/debian/11/prod.list | sudo tee /etc/apt/sources.list.d/mssql-release.list\n",
    "  ~~~~\n",
    "\n",
    "  - Debian 12:\n",
    "\n",
    "  ~~~~\n",
    "  curl https://packages.microsoft.com/config/debian/12/prod.list | sudo tee /etc/apt/sources.list.d/mssql-release.list\n",
    "  ~~~~\n",
    "\n",
    "Para todos:\n",
    "\n",
    "  ~~~~\n",
    "  sudo apt-get update\n",
    "  sudo ACCEPT_EULA=Y apt-get install -y msodbcsql18\n",
    "  ~~~~\n",
    "\n",
    "- Opcional 1: bcp y sqlcmd\n",
    "\n",
    "~~~~\n",
    "sudo ACCEPT_EULA=Y apt-get install -y mssql-tools18\n",
    "echo 'export PATH=\"$PATH:/opt/mssql-tools18/bin\"' >> ~/.bashrc\n",
    "source ~/.bashrc\n",
    "~~~~\n",
    "\n",
    "- Opcional 2: Cabeceras de unixODBC para desarrollo\n",
    "\n",
    "~~~~\n",
    "sudo apt-get install -y unixodbc-dev\n",
    "~~~~\n",
    "\n",
    "- Opcional 3: Librería de Kerberos para las distros debian-slim\n",
    "\n",
    "~~~~\n",
    "sudo apt-get install -y libgssapi-krb5-2\n",
    "~~~~"
   ]
  },
  {
   "cell_type": "code",
   "execution_count": 1,
   "metadata": {},
   "outputs": [
    {
     "name": "stdout",
     "output_type": "stream",
     "text": [
      "Channels:\n",
      " - conda-forge\n",
      " - defaults\n",
      "Platform: win-64\n",
      "Collecting package metadata (repodata.json): ...working... done\n",
      "Solving environment: ...working... done\n",
      "\n",
      "# All requested packages already installed.\n",
      "\n"
     ]
    }
   ],
   "source": [
    "!conda install -c conda-forge -y pyodbc"
   ]
  },
  {
   "cell_type": "markdown",
   "metadata": {},
   "source": [
    "#### Importamos a libraría"
   ]
  },
  {
   "cell_type": "code",
   "execution_count": null,
   "metadata": {},
   "outputs": [],
   "source": [
    "import pyodbc"
   ]
  },
  {
   "cell_type": "markdown",
   "metadata": {},
   "source": [
    "#### Datos de conexión"
   ]
  },
  {
   "cell_type": "code",
   "execution_count": null,
   "metadata": {},
   "outputs": [],
   "source": [
    "DB_HOST = '127.0.0.1,41433'\n",
    "DB_NAME = 'employees'\n",
    "DB_USER = 'employee1'\n",
    "DB_PASSWORD = 'strong_password'"
   ]
  },
  {
   "cell_type": "markdown",
   "metadata": {},
   "source": [
    "#### Establecemos a conexión\n",
    "\n",
    "Primeiro creamos a cadea de conexión e logo chamamos ao método connect."
   ]
  },
  {
   "cell_type": "code",
   "execution_count": null,
   "metadata": {},
   "outputs": [],
   "source": [
    "connectionString = f'''DRIVER={{ODBC Driver 18 for SQL Server}};\n",
    "SERVER={DB_HOST};DATABASE={DB_NAME};\n",
    "UID={DB_USER};PWD={DB_PASSWORD};\n",
    "Encrypt=Yes;TrustServerCertificate=Yes'''\n",
    "\n",
    "conexion = pyodbc.connect(connectionString)"
   ]
  },
  {
   "cell_type": "markdown",
   "metadata": {},
   "source": [
    "#### Executando unha query de lectura"
   ]
  },
  {
   "cell_type": "code",
   "execution_count": null,
   "metadata": {},
   "outputs": [],
   "source": [
    "SQL_QUERY = \"\"\"\n",
    "SELECT \n",
    "nome, apelidos, dni\n",
    "FROM\n",
    "empregado\n",
    "\"\"\"\n",
    "\n",
    "#Creamos un cursos para logo acceder aos resultados\n",
    "cursor = conexion.cursor()\n",
    "\n",
    "#Finalmente executamos a consulta\n",
    "cursor.execute(SQL_QUERY)\n",
    "\n",
    "tuplas = cursor.fetchall()\n",
    "for tupla in tuplas:\n",
    "    print(f\"{tupla.apelidos}, {tupla.nome} \\t - \\t {tupla.dni}\")"
   ]
  },
  {
   "cell_type": "markdown",
   "metadata": {},
   "source": [
    "#### Insertando unha fila\n",
    "\n",
    "O seguinte modo de consulta, facemos un un prepare statement ou consulta parametrizada para previr o SQL Injection. Os ? substituímolos por variables e executamos esa consulta."
   ]
  },
  {
   "cell_type": "code",
   "execution_count": null,
   "metadata": {},
   "outputs": [],
   "source": [
    "SQL_PREPARED_STATEMENT = \"\"\"\n",
    "INSERT INTO empregado(nome, apelidos, dni, data_creacion)\n",
    "VALUES (?,?,?, CURRENT_TIMESTAMP)\n",
    "\"\"\"\n",
    "sufixo=\"1\"\n",
    "\n",
    "cursor.execute(\n",
    "    SQL_PREPARED_STATEMENT,\n",
    "    f'nome_{sufixo}', \n",
    "    f'apelidos_{sufixo}', \n",
    "    '12345678A')\n",
    "\n",
    "# Alternativa\n",
    "valores = (f'nome_{sufixo}', \n",
    "           f'apelidos_{sufixo}', \n",
    "           '12345678A')\n",
    "cursor.execute(SQL_PREPARED_STATEMENT, valores)\n",
    "\n",
    "# Obtemos o id de resultado, para ver se todo está correcto\n",
    "id_resultado = cursor.fetchval()\n",
    "print(id_resultado)\n",
    "\n",
    "# Debemos confirmar cun commit a transacción:\n",
    "conexion.commit()\n",
    "# conexion.rollback()\n",
    "\n",
    "#Pechar o cursor e a conexión\n",
    "cursor.close()\n",
    "conexion.close()"
   ]
  },
  {
   "cell_type": "markdown",
   "metadata": {},
   "source": [
    "#### Xuntalo con PANDAS é moi simple"
   ]
  },
  {
   "cell_type": "code",
   "execution_count": null,
   "metadata": {},
   "outputs": [],
   "source": [
    "import pandas as pd\n",
    "\n",
    "query_for_pandas=\"SELECT * FROM empregado\"\n",
    "conexion_p = pyodbc.connect(connectionString)\n",
    "df = pd.read_sql_query(query_for_pandas, conexion_p)\n",
    "\n",
    "conexion_p.close()\n",
    "\n",
    "df"
   ]
  },
  {
   "cell_type": "markdown",
   "metadata": {},
   "source": [
    "Máis información:\n",
    "  - <https://pieriantraining.com/python-tutorial-how-to-connect-to-sql-server-in-python/>\n",
    "  - <https://learn.microsoft.com/es-es/sql/connect/python/pyodbc/step-3-proof-of-concept-connecting-to-sql-using-pyodbc?view=sql-server-ver16>\n",
    "  - <https://learn.microsoft.com/en-us/sql/connect/odbc/linux-mac/installing-the-microsoft-odbc-driver-for-sql-server?view=sql-server-ver16&tabs=debian18-install%2Calpine17-install%2Cdebian8-install%2Credhat7-13-install%2Crhel7-offline>"
   ]
  }
 ],
 "metadata": {
  "kernelspec": {
   "display_name": "bigdata",
   "language": "python",
   "name": "python3"
  },
  "language_info": {
   "codemirror_mode": {
    "name": "ipython",
    "version": 3
   },
   "file_extension": ".py",
   "mimetype": "text/x-python",
   "name": "python",
   "nbconvert_exporter": "python",
   "pygments_lexer": "ipython3",
   "version": "3.8.12"
  }
 },
 "nbformat": 4,
 "nbformat_minor": 2
}
