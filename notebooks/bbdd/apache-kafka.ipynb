{
 "cells": [
  {
   "cell_type": "markdown",
   "metadata": {},
   "source": [
    "# Apache Kafka dende Python\n",
    "\n",
    "Estrictamente non debería considerarse unha base de datos, aínda que ten moitos elementos dunha.\n",
    "\n",
    "1. Instalamos as librarías necesarias"
   ]
  },
  {
   "cell_type": "code",
   "execution_count": null,
   "metadata": {},
   "outputs": [],
   "source": [
    "! conda install -c conda-forge kafka-python python-confluent-kafka"
   ]
  },
  {
   "cell_type": "markdown",
   "metadata": {},
   "source": [
    "## Produtor\n",
    "\n",
    "Importamos e configuramos un produtor. **Ollo!** Revisa que se poidan resolver tanto os nomes de host que poñas no array de **bootstrap.servers** e os que recibas na primeira conexión onde se che enviará información do cluster de brokers."
   ]
  },
  {
   "cell_type": "code",
   "execution_count": 11,
   "metadata": {},
   "outputs": [],
   "source": [
    "from confluent_kafka import Producer\n",
    "import socket\n",
    "\n",
    "conf = {'bootstrap.servers': \"kafka.jfsanchez.es:9092,nifi.jfsanchez.es:9092\",\n",
    "        'client.id': socket.gethostname()}\n",
    "\n",
    "producer = Producer(conf)"
   ]
  },
  {
   "cell_type": "markdown",
   "metadata": {},
   "source": [
    "### Escrituras asíncronas\n",
    "\n",
    "Por defecto as escrituras son asíncronas"
   ]
  },
  {
   "cell_type": "code",
   "execution_count": 12,
   "metadata": {},
   "outputs": [],
   "source": [
    "topic=\"metamorfosis\"\n",
    "default_key=\"Autor\"\n",
    "default_value=\"Franz Kafka\"\n",
    "\n",
    "producer.produce(topic, key=default_key, value=default_value)"
   ]
  },
  {
   "cell_type": "markdown",
   "metadata": {},
   "source": [
    "### Escrituras síncronas\n",
    "\n",
    "Tras a chamada ao método **produce()** debemos forzar o envío da mensaxe cun **flush()**"
   ]
  },
  {
   "cell_type": "code",
   "execution_count": 13,
   "metadata": {},
   "outputs": [
    {
     "data": {
      "text/plain": [
       "0"
      ]
     },
     "execution_count": 13,
     "metadata": {},
     "output_type": "execute_result"
    }
   ],
   "source": [
    "producer.flush()"
   ]
  },
  {
   "cell_type": "markdown",
   "metadata": {},
   "source": [
    "**Problema**: Queremos confirmar a recepción do dato para evitar perdas no cluster. Exemplo: Cáese xusto despois da recepción e non confirmou o dato.\n",
    "\n",
    "**Solución**: Esperar polas confirmacións (ACK)\n",
    "\n",
    "⚠️ **LEMBRA**: Os produtores poden pedir recibir confirmacións das escrituras:\n",
    "\n",
    "- **acks=0**. O produtor non espera e poderían perderse datos\n",
    "- **acks=1**. O produtor espera pola confirmación do líder (pérdida esporádica de datos cando cae o líder e non hai copias confirmadas).\n",
    "- **acks=todas**. O produtor espera pola confirmación do líder e das réplicas co que idealmente non habería posbilidade de perda de datos.\n",
    "\n",
    "O seguinte código esperará ata un segundo pola confirmación (podería seguir coa execución e fallar cando os ack non sexan os esperados)."
   ]
  },
  {
   "cell_type": "code",
   "execution_count": 14,
   "metadata": {},
   "outputs": [
    {
     "name": "stdout",
     "output_type": "stream",
     "text": [
      "Mensaxe producida: <cimpl.Message object at 0x7f8e51419dc0>\n"
     ]
    },
    {
     "data": {
      "text/plain": [
       "1"
      ]
     },
     "execution_count": 14,
     "metadata": {},
     "output_type": "execute_result"
    }
   ],
   "source": [
    "def confirmacions_acks(erro, mensaxe):\n",
    "    if erro is not None:\n",
    "        print(f\"Fallou a entrega da mensaxe: {mensaxe}: {erro}\")\n",
    "    else:\n",
    "        print(f\"Mensaxe producida: {mensaxe}\")\n",
    "\n",
    "producer.produce(topic, key=default_key, value=default_value, callback=confirmacions_acks)\n",
    "\n",
    "# Espera ata un segundo por eventos. De recibir ACKS chámase ao método confirmacion_acks\n",
    "producer.poll(1)"
   ]
  },
  {
   "cell_type": "markdown",
   "metadata": {},
   "source": [
    "## Consumidor\n",
    "\n",
    "**Ollo!** Revisa que se poidan resolver tanto os nomes de host que poñas no array de **bootstrap.servers** e os que recibas na primeira conexión onde se che enviará información do cluster de brokers.\n",
    "\n",
    "### Inicialización"
   ]
  },
  {
   "cell_type": "code",
   "execution_count": 23,
   "metadata": {},
   "outputs": [],
   "source": [
    "from confluent_kafka import Consumer\n",
    "\n",
    "conf = {'bootstrap.servers': \"kafka.jfsanchez.es:9092,nifi.jfsanchez.es:9092\",\n",
    "        'group.id': \"consumer_group_name\"}\n",
    "\n",
    "consumer = Consumer(conf)"
   ]
  },
  {
   "cell_type": "markdown",
   "metadata": {},
   "source": [
    "### Subscrición básica"
   ]
  },
  {
   "cell_type": "code",
   "execution_count": 19,
   "metadata": {},
   "outputs": [
    {
     "name": "stdout",
     "output_type": "stream",
     "text": [
      "None b'Hola'\n",
      "None b'Hola'\n"
     ]
    },
    {
     "ename": "KeyboardInterrupt",
     "evalue": "",
     "output_type": "error",
     "traceback": [
      "\u001b[0;31m---------------------------------------------------------------------------\u001b[0m",
      "\u001b[0;31mKeyboardInterrupt\u001b[0m                         Traceback (most recent call last)",
      "Cell \u001b[0;32mIn[19], line 4\u001b[0m\n\u001b[1;32m      2\u001b[0m consumer\u001b[38;5;241m.\u001b[39msubscribe([\u001b[38;5;124m'\u001b[39m\u001b[38;5;124mmetamorfosis\u001b[39m\u001b[38;5;124m'\u001b[39m, \u001b[38;5;124m'\u001b[39m\u001b[38;5;124mkafkiano\u001b[39m\u001b[38;5;124m'\u001b[39m])\n\u001b[1;32m      3\u001b[0m \u001b[38;5;28;01mwhile\u001b[39;00m \u001b[38;5;28;01mTrue\u001b[39;00m:\n\u001b[0;32m----> 4\u001b[0m     mensaxe \u001b[38;5;241m=\u001b[39m consumer\u001b[38;5;241m.\u001b[39mpoll(timeout\u001b[38;5;241m=\u001b[39m\u001b[38;5;241m1.0\u001b[39m)\n\u001b[1;32m      5\u001b[0m     \u001b[38;5;28;01mif\u001b[39;00m mensaxe \u001b[38;5;129;01mis\u001b[39;00m \u001b[38;5;28;01mNone\u001b[39;00m: \u001b[38;5;28;01mcontinue\u001b[39;00m\n\u001b[1;32m      6\u001b[0m     \u001b[38;5;28mprint\u001b[39m(mensaxe\u001b[38;5;241m.\u001b[39mkey(), mensaxe\u001b[38;5;241m.\u001b[39mvalue())\n",
      "\u001b[0;31mKeyboardInterrupt\u001b[0m: "
     ]
    }
   ],
   "source": [
    "try:\n",
    "    consumer.subscribe(['metamorfosis', 'kafkiano'])\n",
    "    while True:\n",
    "        mensaxe = consumer.poll(timeout=1.0)\n",
    "        if mensaxe is None: continue\n",
    "        print(mensaxe.key(), mensaxe.value())\n",
    "finally:\n",
    "    consumer.close()"
   ]
  },
  {
   "cell_type": "markdown",
   "metadata": {},
   "source": [
    "As versión recentes do módulo de Konfluentic non envían xa o KafkaError._PARTITION_EOF cando estamos ao final da partición.\n",
    "\n",
    "Se queremos este comportamento, deberemos engadir ao array de configruación (**conf**) o parámetro: **'enable.partition.eof': True**\n",
    "\n",
    "### Commits síncronos\n",
    "\n",
    "Confirmación alomenos do líder"
   ]
  },
  {
   "cell_type": "code",
   "execution_count": 22,
   "metadata": {},
   "outputs": [
    {
     "name": "stdout",
     "output_type": "stream",
     "text": [
      "<cimpl.Message object at 0x7f8e26c3cf40>\n",
      "<cimpl.Message object at 0x7f8e26c3ccc0>\n",
      "<cimpl.Message object at 0x7f8e26c3cf40>\n",
      "<cimpl.Message object at 0x7f8e26c3ccc0>\n",
      "<cimpl.Message object at 0x7f8e26dcbcc0>\n",
      "<cimpl.Message object at 0x7f8e26c3ccc0>\n",
      "<cimpl.Message object at 0x7f8e26dcbcc0>\n",
      "<cimpl.Message object at 0x7f8e26c3ccc0>\n",
      "<cimpl.Message object at 0x7f8e26dcbec0>\n",
      "<cimpl.Message object at 0x7f8e26c3ccc0>\n",
      "<cimpl.Message object at 0x7f8e26dcbcc0>\n"
     ]
    },
    {
     "ename": "KeyboardInterrupt",
     "evalue": "",
     "output_type": "error",
     "traceback": [
      "\u001b[0;31m---------------------------------------------------------------------------\u001b[0m",
      "\u001b[0;31mKeyboardInterrupt\u001b[0m                         Traceback (most recent call last)",
      "Cell \u001b[0;32mIn[22], line 10\u001b[0m\n\u001b[1;32m      8\u001b[0m count \u001b[38;5;241m=\u001b[39m \u001b[38;5;241m0\u001b[39m\n\u001b[1;32m      9\u001b[0m \u001b[38;5;28;01mwhile\u001b[39;00m \u001b[38;5;28;01mTrue\u001b[39;00m:\n\u001b[0;32m---> 10\u001b[0m     mensaxe \u001b[38;5;241m=\u001b[39m consumer\u001b[38;5;241m.\u001b[39mpoll(timeout\u001b[38;5;241m=\u001b[39m\u001b[38;5;241m1.0\u001b[39m)\n\u001b[1;32m     11\u001b[0m     \u001b[38;5;28;01mif\u001b[39;00m mensaxe \u001b[38;5;129;01mis\u001b[39;00m \u001b[38;5;28;01mNone\u001b[39;00m: \u001b[38;5;28;01mcontinue\u001b[39;00m\n\u001b[1;32m     12\u001b[0m     procesa_mensaxe(mensaxe)\n",
      "\u001b[0;31mKeyboardInterrupt\u001b[0m: "
     ]
    }
   ],
   "source": [
    "def procesa_mensaxe(mensaxe):\n",
    "    print(mensaxe)\n",
    "\n",
    "# Confirma polo menos cada 10 mensaxes\n",
    "MIN_COMMIT_COUNT = 10\n",
    "try:\n",
    "    consumer.subscribe(['metamorfosis', 'kafkiano'])\n",
    "    count = 0\n",
    "    while True:\n",
    "        mensaxe = consumer.poll(timeout=1.0)\n",
    "        if mensaxe is None: continue\n",
    "        procesa_mensaxe(mensaxe)\n",
    "        count += 1\n",
    "        if count % MIN_COMMIT_COUNT == 0:\n",
    "            consumer.commit(asynchronous=False)\n",
    "finally:\n",
    "    consumer.close()"
   ]
  },
  {
   "cell_type": "markdown",
   "metadata": {},
   "source": [
    "### Commits asíncronos"
   ]
  },
  {
   "cell_type": "code",
   "execution_count": 24,
   "metadata": {},
   "outputs": [
    {
     "name": "stdout",
     "output_type": "stream",
     "text": [
      "<cimpl.Message object at 0x7f8e26c3e540>\n",
      "<cimpl.Message object at 0x7f8e26c3e5c0>\n",
      "<cimpl.Message object at 0x7f8e26c3e540>\n",
      "<cimpl.Message object at 0x7f8e26c3e5c0>\n",
      "<cimpl.Message object at 0x7f8e26c3e540>\n",
      "<cimpl.Message object at 0x7f8e26dc9bc0>\n",
      "<cimpl.Message object at 0x7f8e26dc9bc0>\n",
      "<cimpl.Message object at 0x7f8e26c3e5c0>\n",
      "<cimpl.Message object at 0x7f8e26dc9bc0>\n",
      "<cimpl.Message object at 0x7f8e26c3e5c0>\n",
      "<cimpl.Message object at 0x7f8e26c3e5c0>\n",
      "<cimpl.Message object at 0x7f8e26c3e540>\n"
     ]
    },
    {
     "ename": "KeyboardInterrupt",
     "evalue": "",
     "output_type": "error",
     "traceback": [
      "\u001b[0;31m---------------------------------------------------------------------------\u001b[0m",
      "\u001b[0;31mKeyboardInterrupt\u001b[0m                         Traceback (most recent call last)",
      "Cell \u001b[0;32mIn[24], line 7\u001b[0m\n\u001b[1;32m      5\u001b[0m count \u001b[38;5;241m=\u001b[39m \u001b[38;5;241m0\u001b[39m\n\u001b[1;32m      6\u001b[0m \u001b[38;5;28;01mwhile\u001b[39;00m \u001b[38;5;28;01mTrue\u001b[39;00m:\n\u001b[0;32m----> 7\u001b[0m     msg \u001b[38;5;241m=\u001b[39m consumer\u001b[38;5;241m.\u001b[39mpoll(timeout\u001b[38;5;241m=\u001b[39m\u001b[38;5;241m1.0\u001b[39m)\n\u001b[1;32m      8\u001b[0m     \u001b[38;5;28;01mif\u001b[39;00m msg \u001b[38;5;129;01mis\u001b[39;00m \u001b[38;5;28;01mNone\u001b[39;00m: \u001b[38;5;28;01mcontinue\u001b[39;00m\n\u001b[1;32m      9\u001b[0m     procesa_mensaxe(msg)\n",
      "\u001b[0;31mKeyboardInterrupt\u001b[0m: "
     ]
    }
   ],
   "source": [
    "# Confirma polo menos cada 10 mensaxes\n",
    "MIN_COMMIT_COUNT = 10\n",
    "try:\n",
    "    consumer.subscribe(['metamorfosis', 'kafkiano'])\n",
    "    count = 0\n",
    "    while True:\n",
    "        msg = consumer.poll(timeout=1.0)\n",
    "        if msg is None: continue\n",
    "        procesa_mensaxe(msg)\n",
    "        count += 1\n",
    "        if count % MIN_COMMIT_COUNT == 0:\n",
    "            consumer.commit(asynchronous=True)\n",
    "finally:\n",
    "    consumer.close()"
   ]
  },
  {
   "cell_type": "markdown",
   "metadata": {},
   "source": [
    "Baseado no código de:\n",
    "- <https://github.com/javicacheiro/pyspark_course/blob/master/supplementary/kafka/unit_4_kafka_python.md>"
   ]
  }
 ],
 "metadata": {
  "kernelspec": {
   "display_name": "base",
   "language": "python",
   "name": "python3"
  },
  "language_info": {
   "codemirror_mode": {
    "name": "ipython",
    "version": 3
   },
   "file_extension": ".py",
   "mimetype": "text/x-python",
   "name": "python",
   "nbconvert_exporter": "python",
   "pygments_lexer": "ipython3",
   "version": "3.12.2"
  }
 },
 "nbformat": 4,
 "nbformat_minor": 2
}
