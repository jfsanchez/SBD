{
 "cells": [
  {
   "cell_type": "markdown",
   "metadata": {},
   "source": [
    "# Web Scraping. Capítulo 2.3\n",
    "## Selenium\n",
    "### O camiño de XPATH\n",
    "\n",
    "O camiño de XPATH non se le, próbase. Sen entender os exemplos, un simple vistazo ao documento, serve de pouco.\n",
    "\n",
    "Este código permite inicializar selenium, se algo falla durante a execución, non dubides en pechar o navegador e abrir un novo con este bloque."
   ]
  },
  {
   "cell_type": "code",
   "execution_count": 1,
   "metadata": {},
   "outputs": [],
   "source": [
    "#Instalar gecko\n",
    "from webdriver_manager.firefox import GeckoDriverManager\n",
    "GeckoDriverManager().install()\n",
    "\n",
    "#Abrir un navegador\n",
    "from selenium import webdriver\n",
    "from selenium.webdriver.common.by import By\n",
    "driver = webdriver.Firefox()"
   ]
  },
  {
   "cell_type": "markdown",
   "metadata": {},
   "source": [
    "##### Paso 1: Usa XPath como se fose un sistema de arquivos: /\n",
    "\n",
    "A sintaxe básica é similar a unha ruta dun arquivo, se o camiño (path) comeza por /, representa unha ruta absoluta ao elemento.\n",
    "\n",
    "**Exemplos**:\n",
    "~~~~\n",
    "<ABC>\n",
    "    <CDE>\n",
    "        <FFF/>\n",
    "    </CDE>\n",
    "\n",
    "    <FFF>\n",
    "        <CDE/>\n",
    "    </FFF>\n",
    "\n",
    "    <CDE>\n",
    "        <XXX/>\n",
    "    </CDE>\n",
    "\n",
    "    <EFG>\n",
    "        <HIJ>\n",
    "            <MMM/>\n",
    "        </HIJ>\n",
    "    <EFG>\n",
    "</ABC>\n",
    "~~~~\n",
    "\n",
    "- **/ABC**: Selecciona todo entre apertura e peche de ABC.\n",
    "- **/ABC/CDE**: Selecciona os dous bloques que parten de ABC (un con FFF e outro con XXX).\n",
    "- **/ABC/EFG/HIJ**: Selecciona o bloque MMM."
   ]
  },
  {
   "cell_type": "markdown",
   "metadata": {},
   "source": [
    "##### Paso 2: A dobre barra: //\n",
    "\n",
    "Sería como unha especie de ruta relativa mezclada con unha selección de tódolos patróns que coincidan.\n",
    "\n",
    "- **//CDE**: Selecciona todos os CDE que coincidan (O que ten FFF, o que está dentro de FFF, o de dentro de GGG e o que ten XXX).\n",
    "~~~~\n",
    "<ABC>\n",
    "    <CDE>\n",
    "        <FFF/>\n",
    "    </CDE>\n",
    "\n",
    "    <FFF>\n",
    "        <CDE/>\n",
    "    </FFF>\n",
    "\n",
    "    <CDE>\n",
    "        <XXX/>\n",
    "    </CDE>\n",
    "\n",
    "    <GGG>\n",
    "        <CDE>\n",
    "            <XXX/>\n",
    "        </CDE>\n",
    "    </GGG>\n",
    "\n",
    "    <EFG>\n",
    "        <HIJ>\n",
    "            <MMM>\n",
    "        </HIJ>\n",
    "    <EFG>\n",
    "</ABC>\n",
    "~~~~\n",
    "\n",
    "- **//CDE/XXX**: Selecciona o contido de VVV (/ABC/GGG/**CDE/XXX**/VVV)\n",
    "~~~~\n",
    "<ABC>\n",
    "    <CDE>\n",
    "        <FFF/>\n",
    "    </CDE>\n",
    "\n",
    "    <FFF>\n",
    "        <CDE/>\n",
    "    </FFF>\n",
    "\n",
    "    <CDE>\n",
    "        <XXX/>\n",
    "    </CDE>\n",
    "\n",
    "    <GGG>\n",
    "        <CDE>\n",
    "            <XXX><VVV/></XXX>\n",
    "        </CDE>\n",
    "    </GGG>\n",
    "\n",
    "    <EFG>\n",
    "        <HIJ>\n",
    "            <MMM>\n",
    "        </HIJ>\n",
    "    <EFG>\n",
    "</ABC>\n",
    "~~~~\n"
   ]
  },
  {
   "cell_type": "markdown",
   "metadata": {},
   "source": [
    "##### Paso 3: O asterisco: *\n",
    "\n",
    "Permite seleccionar tódalas ocurrencias\n"
   ]
  },
  {
   "cell_type": "markdown",
   "metadata": {},
   "source": [
    "### Bibliografía\n",
    "\n",
    "- <http://www.zvon.org/comp/r/tut-XPath_1.html>\n",
    "- <https://www.w3.org/TR/xpath/>\n",
    "- <https://www.w3schools.com/xml/xpath_intro.asp>"
   ]
  }
 ],
 "metadata": {
  "kernelspec": {
   "display_name": "bigdata",
   "language": "python",
   "name": "python3"
  },
  "language_info": {
   "codemirror_mode": {
    "name": "ipython",
    "version": 3
   },
   "file_extension": ".py",
   "mimetype": "text/x-python",
   "name": "python",
   "nbconvert_exporter": "python",
   "pygments_lexer": "ipython3",
   "version": "3.1.undefined"
  }
 },
 "nbformat": 4,
 "nbformat_minor": 2
}
